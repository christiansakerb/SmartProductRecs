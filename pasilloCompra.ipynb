{
 "cells": [
  {
   "cell_type": "markdown",
   "metadata": {},
   "source": [
    "# Modelo de Pasillo de Compra 🛒🛍️\n",
    "Este proyecto busca optimizar la experiencia de compra en retail mediante la predicción de la próxima línea de productos que un cliente puede adquirir, basándose en su historial de compras y patrones de consumo de otros usuarios. El sistema ofrece recomendaciones personalizadas, generalizadas y de recompra para clientes conocidos, y también proporciona recomendaciones iniciales para clientes nuevos.\n",
    "\n"
   ]
  },
  {
   "cell_type": "code",
   "execution_count": 2,
   "metadata": {},
   "outputs": [],
   "source": [
    "import pandas as pd\n",
    "import yaml,joblib,datetime\n",
    "from transforms import Pipeline_data\n",
    "from model.Model_Xgboost import Pipeline_data_modelCD,model_training_testing\n",
    "from model.Model_Apriori import Learning_paths\n",
    "from transforms import cleaningData\n",
    "import sys\n",
    "\n",
    "%load_ext autoreload\n",
    "%autoreload 2\n",
    "\n",
    "with open('configPasillo.yml', 'r',encoding='utf-8') as file:\n",
    "    config_data = yaml.safe_load(file)"
   ]
  },
  {
   "cell_type": "markdown",
   "metadata": {},
   "source": [
    "### Descarga de datos"
   ]
  },
  {
   "cell_type": "code",
   "execution_count": null,
   "metadata": {},
   "outputs": [],
   "source": [
    "from data import cargaDatos_train_model\n",
    "df_recomendaciones = cargaDatos_train_model.Carga_tipo_datos('Data para entrenamiento',query_text=config_data['Query_recomendaciones'],filtro='',env='prd',verbose=False)"
   ]
  },
  {
   "cell_type": "markdown",
   "metadata": {},
   "source": [
    "### XGboost"
   ]
  },
  {
   "cell_type": "markdown",
   "metadata": {},
   "source": [
    "#### Entrenamiento"
   ]
  },
  {
   "cell_type": "code",
   "execution_count": null,
   "metadata": {},
   "outputs": [],
   "source": [
    "import warnings\n",
    "warnings.filterwarnings(\"ignore\", category=UserWarning, module=\"mlflow\")\n",
    "\n",
    "df_train,params_context = Pipeline_data.Preparar_data_paraTrain(df)\n",
    "df_ult,df_ant = Pipeline_data_modelCD.pipelinePrepare_data_train(df_train,'prd',transformacion='total')\n",
    "Diccionario_entrenable =  Pipeline_data_modelCD.Rebalancear_y_organizarDfs(y=df_ult,X=df_ant) \n",
    "Resultados_de_modelos = model_training_testing.Entrenar_modelos_por_clase(Diccionario_entrenable=Diccionario_entrenable,params_context=params_context,nuevo_umbral=0.5,versionar=True)"
   ]
  },
  {
   "cell_type": "code",
   "execution_count": null,
   "metadata": {},
   "outputs": [],
   "source": [
    "from model.MlFlow import Pipeline_mlflow,Mlflow_deploy\n",
    "import yaml\n",
    "from model.Model_Xgboost import Pipeline_data_modelCD,model_training_testing\n",
    "\n",
    "#Descarga de modelos personalizados\n",
    "#models_mlflow_disponibilizados,input_schema,df_runs_best_models = Pipeline_mlflow.Pipeline_modelos_disponibles_MLFLOW(tags=config_data['tipo_de_modelo_rec_pers'],metrica_seleccionada = config_data['Metrica_seleccion_Models_Mlflow'])\n",
    "models_mlflow_disponibilizados,input_schema,df_runs_best_models = Pipeline_mlflow.UtilizarModelosEntrenados(tags=config_data['tipo_de_modelo_rec_pers'],metrica_seleccionada=config_data['Metrica_seleccion_Models_Mlflow'])\n",
    "y_test_global,y_pred_global,metricas = Pipeline_data_modelCD.Obtener_predicciones_testTotal(Resultados_de_modelos=Resultados_de_modelos,models_mlflow_disponibilizados=models_mlflow_disponibilizados\n",
    "                                                                          ,input_schema=input_schema,config_data=config_data)\n",
    "    \n",
    "Mlflow_deploy.Almacenar_Artefacto_MlFlow(artefacto=(models_mlflow_disponibilizados,input_schema,df_runs_best_models),config_data=config_data,metricas=metricas)\n",
    "\n",
    "#display(pd.DataFrame(model_training_testing.Metricas_globales(Resultados_de_modelos),index=config_data['metricas_names']).T)\n",
    "#model_training_testing.Revisar_Metricas_individuales(Resultados_de_modelos)"
   ]
  },
  {
   "cell_type": "markdown",
   "metadata": {},
   "source": [
    "Obtener modelos de XGBoost"
   ]
  },
  {
   "cell_type": "markdown",
   "metadata": {},
   "source": [
    "#### Inferencia"
   ]
  },
  {
   "cell_type": "code",
   "execution_count": null,
   "metadata": {},
   "outputs": [],
   "source": [
    "from model.Model_Xgboost import Recom_XLvl\n",
    "from transforms import cleaningData\n",
    "from model.MlFlow import Pipeline_mlflow\n",
    "\n",
    "models_mlflow_disponibilizados,input_schema,df_runs_best_models_gen = Pipeline_mlflow.UtilizarModelosEntrenados(tags=config_data['tipo_de_modelo_rec_pers_global'],metrica_seleccionada=config_data['Metrica_seleccion_Models_Mlflow'],update=False)[0]['xgboost_stack.pkl']\n",
    "\n",
    "#clientes = cleaningData.obtenerVector_ultimaCompra_Client(df=df,nivel='UNIDAD_FECHA',maximo_compras=3)\n",
    "#infoClientes= Pipeline_data.Obtener_informaciondeComprasAnteriores(df=clientes,config_data=config_data,env='prd')\n",
    "clientes,clientes_index,df_vectores = Recom_XLvl.Organizar_df_para_predict_xgboost(df=clientes,input_schema=input_schema)\n",
    "Recomendaciones_xgboost = Recom_XLvl.Recomendar_xgboost_lvl(Models=models_mlflow_disponibilizados,input_schema=input_schema,data=clientes,\n",
    "                                                            n_cliente=clientes_index,config_data=config_data,df_vector_compras=df_vectores)"
   ]
  },
  {
   "cell_type": "markdown",
   "metadata": {},
   "source": [
    "### A priori"
   ]
  },
  {
   "cell_type": "markdown",
   "metadata": {},
   "source": [
    "#### Entrenamiento de modelo"
   ]
  },
  {
   "cell_type": "code",
   "execution_count": 113,
   "metadata": {},
   "outputs": [
    {
     "name": "stderr",
     "output_type": "stream",
     "text": [
      "2024/11/24 18:12:12 INFO mlflow.tracking.fluent: Experiment with name 'Apriori_rules' does not exist. Creating a new experiment.\n",
      "2024/11/24 18:12:14 INFO mlflow.tracking._tracking_service.client: 🏃 View run respected-donkey-465 at: http://localhost:5000/#/experiments/328871494425630856/runs/f987ad2c4eb945b99e20da9964dbf345.\n",
      "2024/11/24 18:12:14 INFO mlflow.tracking._tracking_service.client: 🧪 View experiment at: http://localhost:5000/#/experiments/328871494425630856.\n"
     ]
    },
    {
     "name": "stdout",
     "output_type": "stream",
     "text": [
      "Derivamos 117 reglas generales, y 168 combinaciones de asociación en run->-> f987ad2c4eb945b99e20da9964dbf345.\n"
     ]
    }
   ],
   "source": [
    "with open('configPasillo.yml', 'r',encoding='utf-8') as file:\n",
    "    config_data = yaml.safe_load(file)\n",
    "\n",
    "df_train,params_context = Pipeline_data.Preparar_data_paraTrain(df)\n",
    "df_apriori,records = Learning_paths.pipelineData_Apriori(df_train,config_data['lvl_apriori'])\n",
    "association_results =  Learning_paths.Apriori_Asociaciones_MlFlow(records=records,params_context=params_context,min_support=config_data['min_support'],\n",
    "                                                                  min_confidence=config_data['min_confidence'],min_lift=config_data['min_lift'],\n",
    "                                                                  max_length=config_data['max_length'],versionar=True)"
   ]
  },
  {
   "cell_type": "markdown",
   "metadata": {},
   "source": [
    "#### Inferencia"
   ]
  },
  {
   "cell_type": "code",
   "execution_count": 8,
   "metadata": {},
   "outputs": [
    {
     "data": {
      "application/vnd.jupyter.widget-view+json": {
       "model_id": "873daa9b0ad145eba21dc52f35d8b389",
       "version_major": 2,
       "version_minor": 0
      },
      "text/plain": [
       "Downloading artifacts:   0%|          | 0/1 [00:00<?, ?it/s]"
      ]
     },
     "metadata": {},
     "output_type": "display_data"
    },
    {
     "name": "stdout",
     "output_type": "stream",
     "text": [
      "Actualmente hay 117 reglas generales de asociación\n",
      "Actualmente hay 168 combinaciones de asociación\n"
     ]
    },
    {
     "name": "stderr",
     "output_type": "stream",
     "text": [
      "Generando Recomendaciones Apriori: 100%|██████████| 833414/833414 [05:02<00:00, 2756.02it/s]\n",
      "Limpiando Recomendaciones: 100%|██████████| 3/3 [12:06<00:00, 242.25s/it]\n"
     ]
    },
    {
     "name": "stdout",
     "output_type": "stream",
     "text": [
      "Se han eliminado -1562602 registros de recomendaciones -> ya lo tiene el cliente en forma exacta\n",
      "Se han eliminado -1082522 registros de recomendaciones -> ya lo tiene el cliente en forma similar\n",
      "Se han eliminado -1545092 registros de recomendaciones -> ´Tiene recomendaciones duplicadas\n",
      "La forma de las predicciones es (4856283, 9)\n",
      "Forma antes de reducir predicciones (4856283, 9)\n",
      "Forma despues de reducir las predicciones (2334986, 10)\n"
     ]
    }
   ],
   "source": [
    "from model.Model_Apriori import Learning_paths,Recom_Lvl\n",
    "\n",
    "from model.MlFlow import Pipeline_mlflow\n",
    "import yaml\n",
    "with open('configPasillo.yml', 'r') as file:\n",
    "    config_data = yaml.safe_load(file)\n",
    "    \n",
    "#Descarga de modelo generalizado\n",
    "models_mlflow_disponibilizados_gen,input_schema_apriori,df_runs_best_models_gen = Pipeline_mlflow.UtilizarModelosEntrenados(tags=config_data['tipo_de_modelo_rec_genr'],metrica_seleccionada=config_data['Metrica_seleccion_Models_Apriori'],run=config_data['run_apriori'])\n",
    "#models_mlflow_disponibilizados_gen,input_schema_apriori,df_runs_best_models_gen = Pipeline_mlflow.UtilizarModelosEntrenados(tags=config_data['tipo_de_modelo_rec_genr'])\n",
    "Reglas_pd = Learning_paths.Mostrar_reglas_de_asociacion(models_mlflow_disponibilizados_gen['Apriori.pkl'])\n",
    "clientes = cleaningData.obtenerVector_ultimaCompra_Client(df=df,nivel='UNIDAD_FECHA',maximo_compras=3)\n",
    "recomendaciones_apriori = Recom_Lvl.Generar_recomendaciones_sublineas(clientes=clientes,Reglas_pd=Reglas_pd,config_data=config_data,MostrarAntesEliminar=None)\n",
    "#recomendaciones_apriori.head(2)"
   ]
  },
  {
   "cell_type": "markdown",
   "metadata": {},
   "source": [
    "### Recomendación de productos"
   ]
  },
  {
   "cell_type": "markdown",
   "metadata": {},
   "source": [
    "#### Por disimilaridad"
   ]
  },
  {
   "cell_type": "code",
   "execution_count": null,
   "metadata": {},
   "outputs": [],
   "source": [
    "from model.src_recProduct import Prods_atrBased\n",
    "from transforms import Pipeline_data\n",
    "\n",
    "df_recomendaciones_Atr= Pipeline_data.AgregarInfoCliente(df_recomendaciones=Preds_Clientes,infoClientes=infoClientes)\n",
    "df_recomendaciones_Atr,df_prods = Prods_atrBased.Complementar_Recomendaciones(df_recomendaciones_Atr,env='prd',config_data=config_data,cant_prods=9999,generacion={3},MostrarAntesEliminar=None)"
   ]
  },
  {
   "cell_type": "markdown",
   "metadata": {},
   "source": [
    "### Prueba Cliente "
   ]
  },
  {
   "cell_type": "code",
   "execution_count": 178,
   "metadata": {},
   "outputs": [
    {
     "data": {
      "text/plain": [
       "{'historial_compras': {'id_cliente': '1140839719',\n",
       "  'ultima_compra': 'SOCMBI,SOSASR,DODBCDB,SOCMC6PTO,SOSAMC',\n",
       "  'skus_compras': '7016520;7008713;7009058;7009743;7010500',\n",
       "  'atributos': 'ARLES BLANCO ESPEJO GLAM SOCARLES SOCBLANCO SOCESPEJO SOCGLAM MONET LINO LENON PERLA TAUPE BEIGE TELA GLAM PERLA SOCMONET SOCLINO SOCLENON SOCPERLA SOCTAUPE SOCBEIGE SOCTELA SOCGLAM SOCPERLA FULL ARL',\n",
       "  'rango_desembolso': 3.0,\n",
       "  'Cupo_dispo': 10000000.0,\n",
       "  'Ultima_medida': 'FULL'},\n",
       " 'recomendaciones': [{'sublinea': 'COF',\n",
       "   'confianza': 0.656,\n",
       "   'productos': '7032288;7032827;7034409',\n",
       "   'prods_cupo': 'JA_7032288;JA_7032827;JA_7034409',\n",
       "   'similitud': '0.0;0.0;0.0',\n",
       "   'codigo_bono': 'AIL032QV9WIHIUQ8SWD399ZR54R1WU23A28HE2'},\n",
       "  {'sublinea': 'NO',\n",
       "   'confianza': 0.365,\n",
       "   'productos': '7031989;7019304;7033200',\n",
       "   'prods_cupo': 'JA_7031989;JA_7019304;JA_7033200',\n",
       "   'similitud': '0.4346;0.4346;0.4346',\n",
       "   'codigo_bono': 'W5GZ4PERNT6BNUCFMR9ABU70FE73B19TH34TFJ'},\n",
       "  {'sublinea': 'BU',\n",
       "   'confianza': 0.266,\n",
       "   'productos': '7027820;7033519;7027397',\n",
       "   'prods_cupo': 'JA_7027820;JA_7033519;JA_7027397',\n",
       "   'similitud': '0.5935;0.4886;0.451',\n",
       "   'codigo_bono': 'JN5FLEEXAGPSW10HXECNJLK6XKK12I9Q0E14S3'}]}"
      ]
     },
     "execution_count": 178,
     "metadata": {},
     "output_type": "execute_result"
    }
   ],
   "source": [
    "import requests\n",
    "# URL de la API\n",
    "api_url = \"http://127.0.0.1:8000\"\n",
    "\n",
    "params = {\"cliente\": \"1140839719\"}\n",
    "\n",
    "response = requests.get(api_url, params=params)\n",
    "# Comprobamos el código de estado de la respuesta\n",
    "if response.status_code == 200:\n",
    "    # Convertimos la respuesta en JSON\n",
    "    data = response.json()\n",
    "data"
   ]
  }
 ],
 "metadata": {
  "kernelspec": {
   "display_name": "Python 3",
   "language": "python",
   "name": "python3"
  },
  "language_info": {
   "codemirror_mode": {
    "name": "ipython",
    "version": 3
   },
   "file_extension": ".py",
   "mimetype": "text/x-python",
   "name": "python",
   "nbconvert_exporter": "python",
   "pygments_lexer": "ipython3",
   "version": "3.9.12"
  }
 },
 "nbformat": 4,
 "nbformat_minor": 2
}
